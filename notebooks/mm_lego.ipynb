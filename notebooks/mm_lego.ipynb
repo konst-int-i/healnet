{
 "cells": [
  {
   "cell_type": "code",
   "execution_count": 61,
   "metadata": {
    "ExecuteTime": {
     "end_time": "2023-10-31T11:47:51.370453Z",
     "start_time": "2023-10-31T11:47:49.603615Z"
    }
   },
   "outputs": [
    {
     "data": {
      "text/plain": "<IPython.core.display.HTML object>",
      "text/html": "<style>.container { width:100% !important; }</style>"
     },
     "metadata": {},
     "output_type": "display_data"
    }
   ],
   "source": [
    "import os\n",
    "if \"x_perceiver\" not in os.listdir():\n",
    "    os.chdir(\"/home/kh701/pycharm/healnet/\")\n",
    "import torch\n",
    "from torch import nn\n",
    "import multiprocessing\n",
    "import torchvision\n",
    "import numpy as np\n",
    "import torchvision.transforms as transforms\n",
    "import einops\n",
    "import pandas as pd\n",
    "from sklearn.datasets import load_breast_cancer\n",
    "from sklearn.model_selection import train_test_split\n",
    "from torch.utils.data import Dataset, DataLoader\n",
    "from healnet.models.explainer import Explainer\n",
    "pd.set_option('display.max_columns', 50)\n",
    "pd.set_option('display.max_rows', 50)\n",
    "\n",
    "from healnet.utils import Config, flatten_config\n",
    "from healnet.etl import TCGADataset\n",
    "from IPython.display import display, HTML\n",
    "display(HTML(\"<style>.container { width:100% !important; }</style>\"))\n",
    "\n",
    "    \n",
    "%reload_ext autoreload\n",
    "%autoreload 2"
   ]
  },
  {
   "cell_type": "markdown",
   "metadata": {},
   "source": [
    "## Import data"
   ]
  },
  {
   "cell_type": "code",
   "execution_count": 62,
   "metadata": {
    "ExecuteTime": {
     "end_time": "2023-10-31T11:48:01.505815Z",
     "start_time": "2023-10-31T11:47:51.307802Z"
    }
   },
   "outputs": [
    {
     "name": "stdout",
     "output_type": "stream",
     "text": [
      "Filled 0 missing values with mean\n",
      "Missing values per feature: \n",
      " Series([], dtype: int64)\n",
      "Slides available: 436\n",
      "Omic available: 437\n",
      "Overlap: 436\n",
      "Filtering out 1 samples for which there are no omic data available\n",
      "Dataloader initialised for blca dataset\n",
      "Dataset: BLCA\n",
      "Molecular data shape: (436, 2191)\n",
      "Molecular/Slide match: 436/436\n",
      "Slide level count: 4\n",
      "Slide level dimensions: ((79968, 79653), (19992, 19913), (4998, 4978), (2499, 2489))\n",
      "Slide resize dimensions: w: 1024, h: 1024\n",
      "Sources selected: ['omic']\n",
      "Censored share: 0.539\n",
      "Survival_bin_sizes: {0: 72, 1: 83, 2: 109, 3: 172}\n",
      "Filled 0 missing values with mean\n",
      "Missing values per feature: \n",
      " Series([], dtype: int64)\n",
      "Slides available: 1019\n",
      "Omic available: 1022\n",
      "Overlap: 1019\n",
      "Filtering out 3 samples for which there are no omic data available\n",
      "Dataloader initialised for brca dataset\n",
      "Dataset: BRCA\n",
      "Molecular data shape: (1019, 2922)\n",
      "Molecular/Slide match: 1019/1019\n",
      "Slide level count: 3\n",
      "Slide level dimensions: ((35855, 34985), (8963, 8746), (2240, 2186))\n",
      "Slide resize dimensions: w: 1024, h: 1024\n",
      "Sources selected: ['omic']\n",
      "Censored share: 0.868\n",
      "Survival_bin_sizes: {3: 155, 2: 172, 1: 289, 0: 403}\n"
     ]
    }
   ],
   "source": [
    "# get dataloaders\n",
    "config = Config(\"config/main_gpu.yml\").read()\n",
    "config = flatten_config(config) # TODO - refactor to other \n",
    "\n",
    "blca = TCGADataset(\n",
    "    dataset=\"blca\", \n",
    "    config=config, \n",
    "    level=2, \n",
    "    sources=[\"omic\"]\n",
    ")\n",
    "\n",
    "brca = TCGADataset(\n",
    "    dataset=\"brca\", \n",
    "    config=config, \n",
    "    level=2, \n",
    "    sources=[\"omic\"]\n",
    ")\n",
    "\n"
   ]
  },
  {
   "cell_type": "code",
   "execution_count": 63,
   "outputs": [],
   "source": [
    "# get tabular data\n",
    "blca_loader = DataLoader(\n",
    "    blca, \n",
    "    batch_size=1, \n",
    "    shuffle=True, \n",
    "    num_workers=multiprocessing.cpu_count()-1\n",
    ")\n",
    "[sample], censorship, event_time, y_disc = next(iter(blca_loader))"
   ],
   "metadata": {
    "collapsed": false,
    "ExecuteTime": {
     "end_time": "2023-10-31T11:48:01.934939Z",
     "start_time": "2023-10-31T11:48:01.488900Z"
    }
   }
  },
  {
   "cell_type": "code",
   "execution_count": 64,
   "outputs": [
    {
     "data": {
      "text/plain": "torch.Size([1, 1, 2183])"
     },
     "execution_count": 64,
     "metadata": {},
     "output_type": "execute_result"
    }
   ],
   "source": [
    "sample.shape"
   ],
   "metadata": {
    "collapsed": false,
    "ExecuteTime": {
     "end_time": "2023-10-31T11:48:01.980750Z",
     "start_time": "2023-10-31T11:48:01.938695Z"
    }
   }
  },
  {
   "cell_type": "markdown",
   "source": [
    "## Tabular self-supervised pre-training\n",
    "\n",
    "To start with, we want to build and encoder-decoder model which trains a cross-attention unit as the encoder, which can later on be deployed in the iterative model. We then want to benchmark the performance with pan-cancer pre-training vs. without pre-training. "
   ],
   "metadata": {
    "collapsed": false
   }
  },
  {
   "cell_type": "code",
   "execution_count": 123,
   "outputs": [],
   "source": [
    "from healnet.models.healnet import PreNorm, default, temperature_softmax, exists\n",
    "from einops import rearrange, repeat\n",
    "from torch import nn, einsum\n",
    "\n",
    "\n",
    "# class Attention(nn.Module):\n",
    "#     def __init__(self, query_dim, context_dim = None, heads = 8, dim_head = 64, dropout = 0.):\n",
    "#         super().__init__()\n",
    "#         inner_dim = dim_head * heads\n",
    "#         context_dim = default(context_dim, query_dim) # self-attention if context is not provided\n",
    "#         \n",
    "#         self.scale = dim_head ** -0.5\n",
    "#         self.heads = heads\n",
    "# \n",
    "#         self.to_q = nn.Linear(query_dim, inner_dim, bias = False)\n",
    "#         self.to_kv = nn.Linear(context_dim, inner_dim * 2, bias = False)\n",
    "# \n",
    "#         self.dropout = nn.Dropout(dropout)\n",
    "#         # add leaky relu\n",
    "#         self.to_out = nn.Sequential(\n",
    "#             nn.Linear(inner_dim, context_dim),\n",
    "#             nn.LeakyReLU(negative_slope=1e-2)\n",
    "#         )\n",
    "# \n",
    "#         self.attn_weights = None\n",
    "#         # self._init_weights()\n",
    "# \n",
    "#     def _init_weights(self):\n",
    "#     # Use He initialization for Linear layers\n",
    "#         for m in self.modules():\n",
    "#             if isinstance(m, nn.Linear):\n",
    "#                 nn.init.kaiming_normal_(m.weight, mode='fan_in', nonlinearity='relu')\n",
    "#                 # Initialize bias to zero if there's any\n",
    "#                 if m.bias is not None:\n",
    "#                     nn.init.zeros_(m.bias)\n",
    "# \n",
    "#     def forward(self, x, context = None, mask = None):\n",
    "#         h = self.heads\n",
    "#         print(x.shape)\n",
    "#         print(context.shape)\n",
    "# \n",
    "#         q = self.to_q(x)\n",
    "#         context = default(context, x)\n",
    "#         k, v = self.to_kv(context).chunk(2, dim = -1)\n",
    "# \n",
    "#         q, k, v = map(lambda t: rearrange(t, 'b n (h d) -> (b h) n d', h = h), (q, k, v))\n",
    "# \n",
    "#         sim = einsum('b i d, b j d -> b i j', q, k) * self.scale\n",
    "# \n",
    "#         if exists(mask):\n",
    "#             mask = rearrange(mask, 'b ... -> b (...)')\n",
    "#             max_neg_value = -torch.finfo(sim.dtype).max\n",
    "#             mask = repeat(mask, 'b j -> (b h) () j', h = h)\n",
    "#             sim.masked_fill_(~mask, max_neg_value)\n",
    "# \n",
    "#         # attention, what we cannot get enough of\n",
    "#         # attn = sim.softmax(dim = -1)\n",
    "#         attn = temperature_softmax(sim, temperature=0.5, dim=-1)\n",
    "#         self.attn_weights = attn\n",
    "#         print(\"Attn weights\", self.attn_weights.shape)\n",
    "#         attn = self.dropout(attn)\n",
    "# \n",
    "# \n",
    "#         out = einsum('b i j, b j d -> b i d', attn, v)\n",
    "#         out = rearrange(out, '(b h) n d -> b n (h d)', h = h)\n",
    "#         out = self.to_out(out)\n",
    "#         return out"
   ],
   "metadata": {
    "collapsed": false,
    "ExecuteTime": {
     "end_time": "2023-10-31T12:13:34.826262Z",
     "start_time": "2023-10-31T12:13:34.730517Z"
    }
   }
  },
  {
   "cell_type": "code",
   "execution_count": 123,
   "outputs": [],
   "source": [],
   "metadata": {
    "collapsed": false,
    "ExecuteTime": {
     "end_time": "2023-10-31T12:13:34.999814Z",
     "start_time": "2023-10-31T12:13:34.927203Z"
    }
   }
  },
  {
   "cell_type": "code",
   "execution_count": 209,
   "outputs": [
    {
     "ename": "RuntimeError",
     "evalue": "mat1 and mat2 shapes cannot be multiplied (10x2189 and 1x32)",
     "output_type": "error",
     "traceback": [
      "\u001B[0;31m---------------------------------------------------------------------------\u001B[0m",
      "\u001B[0;31mRuntimeError\u001B[0m                              Traceback (most recent call last)",
      "Cell \u001B[0;32mIn[209], line 57\u001B[0m\n\u001B[1;32m     54\u001B[0m context \u001B[38;5;241m=\u001B[39m torch\u001B[38;5;241m.\u001B[39mrandn(b, num_latents, latent_dim)\n\u001B[1;32m     56\u001B[0m attention_module \u001B[38;5;241m=\u001B[39m LatentCrossAttention(query_dim\u001B[38;5;241m=\u001B[39minput_channels, latent_dim\u001B[38;5;241m=\u001B[39mlatent_dim)\n\u001B[0;32m---> 57\u001B[0m context_prime \u001B[38;5;241m=\u001B[39m \u001B[43mattention_module\u001B[49m\u001B[43m(\u001B[49m\u001B[43mquery\u001B[49m\u001B[43m,\u001B[49m\u001B[43m \u001B[49m\u001B[43mcontext\u001B[49m\u001B[43m)\u001B[49m\n\u001B[1;32m     59\u001B[0m \u001B[38;5;66;03m# print(attention_weights.shape)  # Expected: torch.Size([64, 2189])\u001B[39;00m\n\u001B[1;32m     60\u001B[0m \u001B[38;5;66;03m# print(query_prime.shape)\u001B[39;00m\n\u001B[1;32m     61\u001B[0m \u001B[38;5;28mprint\u001B[39m(context_prime\u001B[38;5;241m.\u001B[39mshape)\n",
      "File \u001B[0;32m~/.conda/envs/cognition/lib/python3.9/site-packages/torch/nn/modules/module.py:1194\u001B[0m, in \u001B[0;36mModule._call_impl\u001B[0;34m(self, *input, **kwargs)\u001B[0m\n\u001B[1;32m   1190\u001B[0m \u001B[38;5;66;03m# If we don't have any hooks, we want to skip the rest of the logic in\u001B[39;00m\n\u001B[1;32m   1191\u001B[0m \u001B[38;5;66;03m# this function, and just call forward.\u001B[39;00m\n\u001B[1;32m   1192\u001B[0m \u001B[38;5;28;01mif\u001B[39;00m \u001B[38;5;129;01mnot\u001B[39;00m (\u001B[38;5;28mself\u001B[39m\u001B[38;5;241m.\u001B[39m_backward_hooks \u001B[38;5;129;01mor\u001B[39;00m \u001B[38;5;28mself\u001B[39m\u001B[38;5;241m.\u001B[39m_forward_hooks \u001B[38;5;129;01mor\u001B[39;00m \u001B[38;5;28mself\u001B[39m\u001B[38;5;241m.\u001B[39m_forward_pre_hooks \u001B[38;5;129;01mor\u001B[39;00m _global_backward_hooks\n\u001B[1;32m   1193\u001B[0m         \u001B[38;5;129;01mor\u001B[39;00m _global_forward_hooks \u001B[38;5;129;01mor\u001B[39;00m _global_forward_pre_hooks):\n\u001B[0;32m-> 1194\u001B[0m     \u001B[38;5;28;01mreturn\u001B[39;00m \u001B[43mforward_call\u001B[49m\u001B[43m(\u001B[49m\u001B[38;5;241;43m*\u001B[39;49m\u001B[38;5;28;43minput\u001B[39;49m\u001B[43m,\u001B[49m\u001B[43m \u001B[49m\u001B[38;5;241;43m*\u001B[39;49m\u001B[38;5;241;43m*\u001B[39;49m\u001B[43mkwargs\u001B[49m\u001B[43m)\u001B[49m\n\u001B[1;32m   1195\u001B[0m \u001B[38;5;66;03m# Do not call functions when jit is used\u001B[39;00m\n\u001B[1;32m   1196\u001B[0m full_backward_hooks, non_full_backward_hooks \u001B[38;5;241m=\u001B[39m [], []\n",
      "Cell \u001B[0;32mIn[209], line 19\u001B[0m, in \u001B[0;36mLatentCrossAttention.forward\u001B[0;34m(self, query, context)\u001B[0m\n\u001B[1;32m     17\u001B[0m query \u001B[38;5;241m=\u001B[39m einops\u001B[38;5;241m.\u001B[39mrearrange(query, \u001B[38;5;124m\"\u001B[39m\u001B[38;5;124mb c d -> b d c\u001B[39m\u001B[38;5;124m\"\u001B[39m)\n\u001B[1;32m     18\u001B[0m \u001B[38;5;66;03m# Linear projections of query and context\u001B[39;00m\n\u001B[0;32m---> 19\u001B[0m q_proj \u001B[38;5;241m=\u001B[39m \u001B[38;5;28;43mself\u001B[39;49m\u001B[38;5;241;43m.\u001B[39;49m\u001B[43mw_q\u001B[49m\u001B[43m(\u001B[49m\u001B[43mquery\u001B[49m\u001B[43m)\u001B[49m  \u001B[38;5;66;03m# [b, 2189, 32]\u001B[39;00m\n\u001B[1;32m     20\u001B[0m k_proj \u001B[38;5;241m=\u001B[39m \u001B[38;5;28mself\u001B[39m\u001B[38;5;241m.\u001B[39mw_c(context)  \u001B[38;5;66;03m# [b, 256, 32]\u001B[39;00m\n\u001B[1;32m     22\u001B[0m \u001B[38;5;66;03m# Calculating attention scores\u001B[39;00m\n",
      "File \u001B[0;32m~/.conda/envs/cognition/lib/python3.9/site-packages/torch/nn/modules/module.py:1194\u001B[0m, in \u001B[0;36mModule._call_impl\u001B[0;34m(self, *input, **kwargs)\u001B[0m\n\u001B[1;32m   1190\u001B[0m \u001B[38;5;66;03m# If we don't have any hooks, we want to skip the rest of the logic in\u001B[39;00m\n\u001B[1;32m   1191\u001B[0m \u001B[38;5;66;03m# this function, and just call forward.\u001B[39;00m\n\u001B[1;32m   1192\u001B[0m \u001B[38;5;28;01mif\u001B[39;00m \u001B[38;5;129;01mnot\u001B[39;00m (\u001B[38;5;28mself\u001B[39m\u001B[38;5;241m.\u001B[39m_backward_hooks \u001B[38;5;129;01mor\u001B[39;00m \u001B[38;5;28mself\u001B[39m\u001B[38;5;241m.\u001B[39m_forward_hooks \u001B[38;5;129;01mor\u001B[39;00m \u001B[38;5;28mself\u001B[39m\u001B[38;5;241m.\u001B[39m_forward_pre_hooks \u001B[38;5;129;01mor\u001B[39;00m _global_backward_hooks\n\u001B[1;32m   1193\u001B[0m         \u001B[38;5;129;01mor\u001B[39;00m _global_forward_hooks \u001B[38;5;129;01mor\u001B[39;00m _global_forward_pre_hooks):\n\u001B[0;32m-> 1194\u001B[0m     \u001B[38;5;28;01mreturn\u001B[39;00m \u001B[43mforward_call\u001B[49m\u001B[43m(\u001B[49m\u001B[38;5;241;43m*\u001B[39;49m\u001B[38;5;28;43minput\u001B[39;49m\u001B[43m,\u001B[49m\u001B[43m \u001B[49m\u001B[38;5;241;43m*\u001B[39;49m\u001B[38;5;241;43m*\u001B[39;49m\u001B[43mkwargs\u001B[49m\u001B[43m)\u001B[49m\n\u001B[1;32m   1195\u001B[0m \u001B[38;5;66;03m# Do not call functions when jit is used\u001B[39;00m\n\u001B[1;32m   1196\u001B[0m full_backward_hooks, non_full_backward_hooks \u001B[38;5;241m=\u001B[39m [], []\n",
      "File \u001B[0;32m~/.conda/envs/cognition/lib/python3.9/site-packages/torch/nn/modules/linear.py:114\u001B[0m, in \u001B[0;36mLinear.forward\u001B[0;34m(self, input)\u001B[0m\n\u001B[1;32m    113\u001B[0m \u001B[38;5;28;01mdef\u001B[39;00m \u001B[38;5;21mforward\u001B[39m(\u001B[38;5;28mself\u001B[39m, \u001B[38;5;28minput\u001B[39m: Tensor) \u001B[38;5;241m-\u001B[39m\u001B[38;5;241m>\u001B[39m Tensor:\n\u001B[0;32m--> 114\u001B[0m     \u001B[38;5;28;01mreturn\u001B[39;00m \u001B[43mF\u001B[49m\u001B[38;5;241;43m.\u001B[39;49m\u001B[43mlinear\u001B[49m\u001B[43m(\u001B[49m\u001B[38;5;28;43minput\u001B[39;49m\u001B[43m,\u001B[49m\u001B[43m \u001B[49m\u001B[38;5;28;43mself\u001B[39;49m\u001B[38;5;241;43m.\u001B[39;49m\u001B[43mweight\u001B[49m\u001B[43m,\u001B[49m\u001B[43m \u001B[49m\u001B[38;5;28;43mself\u001B[39;49m\u001B[38;5;241;43m.\u001B[39;49m\u001B[43mbias\u001B[49m\u001B[43m)\u001B[49m\n",
      "\u001B[0;31mRuntimeError\u001B[0m: mat1 and mat2 shapes cannot be multiplied (10x2189 and 1x32)"
     ]
    }
   ],
   "source": [
    "import torch\n",
    "import torch.nn as nn\n",
    "import torch.nn.functional as F\n",
    "\n",
    "class LatentCrossAttention(nn.Module):\n",
    "    \"\"\"\n",
    "    Module which takes in a query tensor and a context tensor, and returns an updated context tensor.\n",
    "    \"\"\"\n",
    "    def __init__(self, query_dim=1, latent_dim=32):\n",
    "        super(LatentCrossAttention, self).__init__()\n",
    "\n",
    "        # Weight matrices for projecting query and context (key)\n",
    "        self.w_q = nn.Linear(query_dim, latent_dim, bias=False)  # Linear layer will act as our transformation matrix for Q\n",
    "        self.w_c = nn.Linear(latent_dim, latent_dim, bias=False)    # Transformation matrix for K (context)\n",
    "\n",
    "    def forward(self, query, context):\n",
    "        query = einops.rearrange(query, \"b c d -> b d c\")\n",
    "        # Linear projections of query and context\n",
    "        q_proj = self.w_q(query)  # [b, 2189, 32]\n",
    "        k_proj = self.w_c(context)  # [b, 256, 32]\n",
    "\n",
    "        # Calculating attention scores\n",
    "        S = torch.bmm(q_proj, k_proj.transpose(1, 2))  # [b, 2189, 256]\n",
    "\n",
    "        # Summing over the second dimension to get the required size\n",
    "        S_mean = torch.mean(S, dim=-1)  # [b, 2189]\n",
    "\n",
    "        # Calculating attention weights\n",
    "        attn = F.softmax(S_mean, dim=-1)  # [b, 2189]\n",
    "\n",
    "        # Compute the attention-weighted sum of q_proj\n",
    "        weighted_q_proj = torch.sum(attn.unsqueeze(-1) * q_proj, dim=1, keepdim=True)  # [b, 1, 32]\n",
    "\n",
    "        # Adding the update to the original context to get the updated context\n",
    "        context_prime = F.softmax(context + (weighted_q_proj * k_proj), dim=-1)\n",
    "\n",
    "        # element-wise (hadamard) product\n",
    "        query_prime = attn.unsqueeze(-1) * query  # [b, 2189, 1]\n",
    "\n",
    "        self.attn_weights = attn\n",
    "        self.query_prime = query_prime\n",
    "\n",
    "        return context_prime\n",
    "\n",
    "# Test case\n",
    "b = 10\n",
    "# tabular\n",
    "channel_dims = 2189\n",
    "input_channels = 1 # just one channel for tabular\n",
    "num_latents = 256\n",
    "latent_dim = 32\n",
    "# latent_dim\n",
    "query = torch.randn(b, channel_dims, input_channels)\n",
    "context = torch.randn(b, num_latents, latent_dim)\n",
    "\n",
    "attention_module = LatentCrossAttention(query_dim=input_channels, latent_dim=latent_dim)\n",
    "context_prime = attention_module(query, context)\n",
    "\n",
    "# print(attention_weights.shape)  # Expected: torch.Size([64, 2189])\n",
    "# print(query_prime.shape)\n",
    "print(context_prime.shape)\n",
    "\n",
    "\n",
    "# latent_update = LatentUpdate()\n",
    "# context_prime = latent_update(context, query_prime)\n"
   ],
   "metadata": {
    "collapsed": false,
    "ExecuteTime": {
     "end_time": "2023-10-31T12:56:15.047710Z",
     "start_time": "2023-10-31T12:56:14.939997Z"
    }
   }
  },
  {
   "cell_type": "code",
   "execution_count": 341,
   "outputs": [
    {
     "name": "stdout",
     "output_type": "stream",
     "text": [
      "1 62\n",
      "torch.Size([80, 1, 32]) torch.Size([80, 256, 32]) torch.Size([80, 256, 32])\n"
     ]
    },
    {
     "data": {
      "text/plain": "torch.Size([10, 256, 62])"
     },
     "execution_count": 341,
     "metadata": {},
     "output_type": "execute_result"
    }
   ],
   "source": [
    "class AttentionUpdate(nn.Module):\n",
    "    def __init__(self, query_dim, latent_dim = None, heads = 8, dim_head = 64, dropout = 0.):\n",
    "        super().__init__()\n",
    "        inner_dim = dim_head * heads\n",
    "        context_dim = default(latent_dim, query_dim)\n",
    "\n",
    "        self.scale = dim_head ** -0.5\n",
    "        self.heads = heads\n",
    "        self.latent_dim = latent_dim\n",
    "\n",
    "        self.to_q = nn.Linear(query_dim, inner_dim, bias = False)\n",
    "        self.to_kv = nn.Linear(context_dim, inner_dim * 2, bias = False)\n",
    "\n",
    "        self.dropout = nn.Dropout(dropout)\n",
    "\n",
    "        self.attn_weights = None\n",
    "        # self._init_weights()\n",
    "\n",
    "    def _init_weights(self):\n",
    "    # Use He initialization for Linear layers\n",
    "        for m in self.modules():\n",
    "            if isinstance(m, nn.Linear):\n",
    "                nn.init.kaiming_normal_(m.weight, mode='fan_in', nonlinearity='relu')\n",
    "                # Initialize bias to zero if there's any\n",
    "                if m.bias is not None:\n",
    "                    nn.init.zeros_(m.bias)\n",
    "\n",
    "    def forward(self, context, x, mask = None):\n",
    "        h = self.heads\n",
    "        # x = einops.rearrange(x, \"b d c -> b c d\")\n",
    "\n",
    "        q = self.to_q(x)\n",
    "        context = default(context, x)\n",
    "        k, v = self.to_kv(context).chunk(2, dim = -1)\n",
    "\n",
    "        q, k, v = map(lambda t: rearrange(t, 'b n (h d) -> (b h) n d', h = h), (q, k, v))\n",
    "        print(q.shape, k.shape, v.shape) \n",
    "\n",
    "        sim = einsum('b i d, b j d -> b i j', q, k) * self.scale\n",
    "\n",
    "        if exists(mask):\n",
    "            mask = rearrange(mask, 'b ... -> b (...)')\n",
    "            max_neg_value = -torch.finfo(sim.dtype).max\n",
    "            mask = repeat(mask, 'b j -> (b h) () j', h = h)\n",
    "            sim.masked_fill_(~mask, max_neg_value)\n",
    "\n",
    "        # attention, what we cannot get enough of\n",
    "        # attn = sim.softmax(dim = -1)\n",
    "        attn = temperature_softmax(sim, temperature=0.5, dim=-1)\n",
    "        attn = einops.rearrange(attn, '(b h) n j -> b h n j', h=h)\n",
    "        self.attn_weights = attn\n",
    "        attn = self.dropout(attn)\n",
    "        attn = attn.mean(dim=-1).mean(dim=1)\n",
    "\n",
    "        nn.LeakyReLU(negative_slope=1e-2)\n",
    "        to_out = nn.Sequential(\n",
    "            nn.Linear(attn.shape[1], self.latent_dim),\n",
    "            nn.LeakyReLU(negative_slope=1e-2))\n",
    "        # to_out.to(\"cuda\")\n",
    "\n",
    "        out = to_out(attn)\n",
    "        # element-wise product\n",
    "        out = einsum('b d, b i d -> b i d', out, context)\n",
    "        return out\n",
    "\n",
    "b = 10 \n",
    "# tabular\n",
    "channel_dims = 2189\n",
    "input_channels = 1 # just one channel for tabular\n",
    "num_latents = 256\n",
    "latent_dim = 62\n",
    "latent = torch.randn(b, num_latents, latent_dim)\n",
    "query = torch.randn(b, input_channels, channel_dims)\n",
    "\n",
    "print(input_channels, latent_dim)\n",
    "attention_module = AttentionUpdate(query_dim=channel_dims, latent_dim=latent_dim, heads=8, dim_head=32, dropout=0.1)\n",
    "out = attention_module(context=latent, x=query)\n",
    "out.shape"
   ],
   "metadata": {
    "collapsed": false,
    "ExecuteTime": {
     "end_time": "2023-10-31T16:40:41.250824Z",
     "start_time": "2023-10-31T16:40:37.578703Z"
    }
   }
  },
  {
   "cell_type": "code",
   "execution_count": 299,
   "outputs": [
    {
     "data": {
      "text/plain": "torch.Size([10, 2189, 1])"
     },
     "execution_count": 299,
     "metadata": {},
     "output_type": "execute_result"
    }
   ],
   "source": [
    "query.shape"
   ],
   "metadata": {
    "collapsed": false,
    "ExecuteTime": {
     "end_time": "2023-10-31T15:27:53.993399Z",
     "start_time": "2023-10-31T15:27:53.938427Z"
    }
   }
  },
  {
   "cell_type": "code",
   "execution_count": 240,
   "outputs": [
    {
     "data": {
      "text/plain": "torch.Size([10, 2189, 32, 1])"
     },
     "execution_count": 240,
     "metadata": {},
     "output_type": "execute_result"
    }
   ],
   "source": [
    "a = torch.randn(10, 2189, 32)\n",
    "b = torch.randn(10, 256, 32)\n",
    "# expand dim\n",
    "a = einops.repeat(a, \"b n d -> b n d j\", j=1)\n",
    "b = einops.repeat(b, \"b n d -> b n d j\", j=2189)\n",
    "\n",
    "# torch.bmm(a, b.transpose(1, 2)).shape"
   ],
   "metadata": {
    "collapsed": false,
    "ExecuteTime": {
     "end_time": "2023-10-31T14:08:49.995651Z",
     "start_time": "2023-10-31T14:08:49.938882Z"
    }
   }
  },
  {
   "cell_type": "code",
   "execution_count": 124,
   "outputs": [],
   "source": [],
   "metadata": {
    "collapsed": false,
    "ExecuteTime": {
     "end_time": "2023-10-31T12:13:35.280365Z",
     "start_time": "2023-10-31T12:13:35.179786Z"
    }
   }
  },
  {
   "cell_type": "code",
   "execution_count": 145,
   "outputs": [],
   "source": [
    "\n",
    "class AttentionEncoder(nn.Module): \n",
    "    \"\"\"\n",
    "    Simple encoder that uses fourier encoding, pre-norm and cross-attention to encode the input features into a latent array \n",
    "    of size (num_latents x latent_dim). Takes in both the input tensors as well as a randomly initialised latent \n",
    "    array as the input. \n",
    "    \"\"\"\n",
    "    def __init__(self,\n",
    "                 input_channels: int,\n",
    "                 channel_dims: int,\n",
    "                 latent: torch.Tensor,\n",
    "                 input_axis: int = 1,\n",
    "                 attn_dropout: float = 0.1,\n",
    "                 num_heads: int = 4,\n",
    "                 num_freq_bands: int=8,\n",
    "                 ):    \n",
    "        super().__init__()\n",
    "        \n",
    "        self.channel_dims = channel_dims\n",
    "        self.input_axis = input_axis\n",
    "        self.attn_dropout = attn_dropout\n",
    "        self.num_heads = num_heads\n",
    "        \n",
    "        \n",
    "        # fourier_channels = (input_axis * ((num_freq_bands * 2) + 1))\n",
    "        # input_dim = fourier_channels + input_channels\n",
    "        input_dim = channel_dims * input_channels\n",
    "        \n",
    "        num_latents, latent_dim = latent.shape\n",
    "        print(latent_dim, input_dim)\n",
    "        # enc = PreNorm(latent_dim, Attention(latent_dim, input_dim, heads=num_heads, dim_head=num_heads, dropout=attn_dropout), context_dim=latent_dim)\n",
    "        # enc = Attention(query_dim=input_dim, num_latents=num_latents, latent_dim=latent_dim, heads=num_heads, dim_head=num_heads, dropout=attn_dropout)\n",
    "        print(f\"Input channels {input_channels}, latent dim {latent_dim}\")\n",
    "        \n",
    "        attn = LatentCrossAttention(query_dim=input_channels, latent_dim=latent_dim)\n",
    "        norm = nn.InstanceNorm1d(latent_dim)\n",
    "        # enc = PreNorm\n",
    "        # enc = PreNorm(latent_dim, Attention(query_dim=input_dim, context_dim=latent_dim, heads=num_heads, dim_head=num_heads, dropout=attn_dropout), context_dim=latent_dim)\n",
    "        \n",
    "        self.layers = nn.ModuleList([\n",
    "            attn, \n",
    "            norm\n",
    "        ])\n",
    "        \n",
    "        print(self.layers)\n",
    "        \n",
    "    def forward(self, query: torch.Tensor, latent: torch.Tensor):\n",
    "        \"\"\"\n",
    "        Note: context is the data, x is the latent\n",
    "        Args:\n",
    "            latent: \n",
    "            context: \n",
    "\n",
    "        Returns:\n",
    "\n",
    "        \"\"\"\n",
    "        for layer in self.layers:\n",
    "            if isinstance(layer, LatentCrossAttention):\n",
    "                latent = layer(query=query, context=latent)\n",
    "            else:\n",
    "                latent = layer(latent)\n",
    "        return latent\n"
   ],
   "metadata": {
    "collapsed": false,
    "ExecuteTime": {
     "end_time": "2023-10-31T12:16:56.576772Z",
     "start_time": "2023-10-31T12:16:56.483818Z"
    }
   }
  },
  {
   "cell_type": "markdown",
   "source": [
    "The decoder often needs to be different depending on the modality, so let's implement modality-specific decoders while trying to have a relatively general-purpose encoder that we can plug into the pipeline.\n",
    "\n",
    "Note that we may change this later down the line. "
   ],
   "metadata": {
    "collapsed": false
   }
  },
  {
   "cell_type": "code",
   "execution_count": 139,
   "metadata": {
    "ExecuteTime": {
     "end_time": "2023-10-31T12:16:06.051995Z",
     "start_time": "2023-10-31T12:16:05.995041Z"
    }
   },
   "outputs": [],
   "source": [
    "class TabularDecoder(nn.Module):\n",
    "    \"\"\"\n",
    "    Decoder suited for tabular data. We use the following: \n",
    "    - Skip connections: faster and more stable training\n",
    "    - Batch normalisation: stabilises the activations and speeds up training\n",
    "    - Activation: Output layer to map back to output dimensions, corresponding to the original data dims\n",
    "    Tries to reconstruct the original input given the latent\n",
    "    \"\"\"\n",
    "    def __init__(self, latent_dim: int, num_latents: int, output_dim: int, method: str = \"dense\"):\n",
    "        super(TabularDecoder, self).__init__()\n",
    "        assert method in [\"dense\", \"conv\"], \"Decoder type not recognised\"\n",
    "        # check that latent_dim is divisible by 4\n",
    "        assert num_latents % 4 == 0, \"Latent dim must be a multiple of 4\"\n",
    "        layers = []\n",
    "        \n",
    "        if method == \"dense\": \n",
    "            \n",
    "            # flatten latent array (batch, num_latents, latent_dim) -> (batch, num_latents * latent_dim)\n",
    "            layers.extend([nn.Flatten()]) \n",
    "            out_dims = [1024, 512, 256] # may refactor as hyperparameter later\n",
    "            \n",
    "            in_dim = latent_dim * num_latents\n",
    "            for idx, out_dim in enumerate(out_dims):\n",
    "                \n",
    "                layers.extend([\n",
    "                    nn.Linear(in_features=in_dim, out_features=out_dim), \n",
    "                    nn.LeakyReLU(), \n",
    "                    nn.InstanceNorm1d(out_dim, track_running_stats=False), \n",
    "                    nn.Dropout(0.5)\n",
    "                ])\n",
    "                \n",
    "                in_dim = out_dim # update for next layer\n",
    "            \n",
    "            # final layer to reconstruct output\n",
    "            layers.append(nn.Linear(in_dim, output_dim))\n",
    "        \n",
    "        elif method == \"conv\": \n",
    "            print(latent_dim, num_latents)\n",
    "            layers.extend([\n",
    "                nn.ConvTranspose1d(num_latents, out_channels=int(num_latents/2), kernel_size=4, stride=2, padding=1), \n",
    "                nn.BatchNorm1d(int(num_latents/2)),\n",
    "                nn.LeakyReLU(negative_slope=0.1),\n",
    "                \n",
    "                nn.ConvTranspose1d(int(num_latents/2), out_channels=int(num_latents/4), kernel_size=4, stride=2, padding=1),\n",
    "                nn.BatchNorm1d(int(num_latents/4)),\n",
    "                nn.LeakyReLU(negative_slope=0.1),\n",
    "                \n",
    "                # If you added any other ConvTranspose layers, ensure the channel sizes match correctly for those as well.\n",
    "                \n",
    "                nn.Conv1d(int(num_latents/4), out_channels=1, kernel_size=1, stride=1, padding=0)\n",
    "            ])\n",
    "        \n",
    "        self.decode = nn.Sequential(*layers)\n",
    "        print(self.decode)\n",
    "        \n",
    "    def forward(self, latent: torch.Tensor):\n",
    "        return self.decode(latent)\n",
    "    \n",
    "    \n",
    "        \n",
    "    "
   ]
  },
  {
   "cell_type": "markdown",
   "source": [
    "Finally, putting it all together in the encoder-decoder model\n"
   ],
   "metadata": {
    "collapsed": false
   }
  },
  {
   "cell_type": "code",
   "execution_count": 211,
   "outputs": [],
   "source": [
    "from typing import *\n",
    "\n",
    "class TabPretrainer(nn.Module): \n",
    "    \"\"\"\n",
    "    Encoder-decoder model for pre-training tabular data.\n",
    "    # TODO - refactor abstract base class for initialisations \n",
    "    \"\"\"\n",
    "    def __init__(self,\n",
    "                 sample: torch.Tensor,\n",
    "                 latent_shape: List[int],\n",
    "                 input_axis: int = 1,\n",
    "                 attn_dropout: float = 0.1,\n",
    "                 num_heads: int = 4,\n",
    "                 num_freq_bands: int=8,\n",
    "                 ):\n",
    "        super().__init__()\n",
    "        self.input_channels = sample.shape[-2]\n",
    "        print(sample.shape)\n",
    "        self.channel_dims = sample.shape[-1]\n",
    "        self.input_axis = input_axis\n",
    "        self.num_latents, self.latent_dim = latent_shape  # (n x d) [256, 32]\n",
    "        self.attn_dropout = attn_dropout\n",
    "        self.num_heads = num_heads\n",
    "        self.num_freq_bands = num_freq_bands\n",
    "        \n",
    "        \n",
    "        # randomly initialise latent\n",
    "        self.latent = nn.Parameter(torch.randn(self.num_latents, self.latent_dim))\n",
    "        \n",
    "        # encoder\n",
    "        self.encoder = AttentionEncoder(\n",
    "            input_channels=self.input_channels, \n",
    "            channel_dims=self.channel_dims,\n",
    "            latent=self.latent,\n",
    "            input_axis=self.input_axis, \n",
    "            attn_dropout=attn_dropout, \n",
    "            num_heads=num_heads, \n",
    "            num_freq_bands=num_freq_bands\n",
    "        )\n",
    "        \n",
    "        # decoder\n",
    "        self.decoder = TabularDecoder(\n",
    "            latent_dim=self.latent_dim,\n",
    "            num_latents=self.num_latents,\n",
    "            output_dim=self.input_channels,\n",
    "            method=\"dense\" # using simple encoder to force good representation\n",
    "        )\n",
    "        \n",
    "    def forward(self, x: torch.Tensor):\n",
    "        \n",
    "        # expand latent to batch size\n",
    "        if len(self.latent.shape) == 2:\n",
    "            b = x.shape[0]\n",
    "            self.latent = nn.Parameter(einops.repeat(self.latent, \"n d -> b n d\", b=b))\n",
    "        \n",
    "        # encode\n",
    "        # works much better with skip connections\n",
    "        self.latent.data = self.encoder(query=x, latent=self.latent).data\n",
    "        rec_x = self.decoder(self.latent)\n",
    "        return rec_x\n",
    "    \n",
    "    def get_latent(self):\n",
    "        return self.latent"
   ],
   "metadata": {
    "collapsed": false,
    "ExecuteTime": {
     "end_time": "2023-10-31T12:57:27.679498Z",
     "start_time": "2023-10-31T12:57:27.625647Z"
    }
   }
  },
  {
   "cell_type": "markdown",
   "source": [
    "Next, we need to think about tabular loss functions. Here, we can explore both reconstruction losses and contrastive losses. "
   ],
   "metadata": {
    "collapsed": false
   }
  },
  {
   "cell_type": "code",
   "execution_count": 141,
   "outputs": [],
   "source": [
    "class TabularLoss(nn.Module):\n",
    "    \"\"\"\n",
    "    Reconstruction loss functions for tabular data. We use two types which are commonly used with continuous data: \n",
    "    - Mean squared error\n",
    "    - Constrastive loss, measured as cosine distance between the original and reconstructed data\n",
    "    We seek to minimise both objectives.\n",
    "    \"\"\"\n",
    "    def __init__(self,\n",
    "                 method: str = \"mse\",\n",
    "                 reduction: str = \"mean\",\n",
    "                 ):\n",
    "        super().__init__()\n",
    "        assert method in [\"mse\", \"contrastive\"], \"Loss type not recognised\"\n",
    "        self.loss_type = method\n",
    "        self.reduction = reduction\n",
    "        \n",
    "        if method == \"mse\":\n",
    "            self.loss = nn.MSELoss(reduction=reduction)\n",
    "        elif method == \"contrastive\":\n",
    "            self.loss = nn.CosineEmbeddingLoss(reduction=reduction)\n",
    "            \n",
    "    def __call__(self, **kwargs):\n",
    "        return self.loss(**kwargs)\n",
    "    "
   ],
   "metadata": {
    "collapsed": false,
    "ExecuteTime": {
     "end_time": "2023-10-31T12:16:06.587854Z",
     "start_time": "2023-10-31T12:16:06.510786Z"
    }
   }
  },
  {
   "cell_type": "markdown",
   "source": [
    "Finally, we write a pre-training loop that we can use for pre-training across cancer sites. "
   ],
   "metadata": {
    "collapsed": false
   }
  },
  {
   "cell_type": "code",
   "execution_count": 212,
   "outputs": [
    {
     "name": "stdout",
     "output_type": "stream",
     "text": [
      "torch.Size([1, 1, 2183])\n",
      "32 2183\n",
      "Input channels 1, latent dim 32\n",
      "ModuleList(\n",
      "  (0): LatentCrossAttention(\n",
      "    (w_q): Linear(in_features=1, out_features=32, bias=False)\n",
      "    (w_c): Linear(in_features=32, out_features=32, bias=False)\n",
      "  )\n",
      "  (1): InstanceNorm1d(32, eps=1e-05, momentum=0.1, affine=False, track_running_stats=False)\n",
      ")\n",
      "Sequential(\n",
      "  (0): Flatten(start_dim=1, end_dim=-1)\n",
      "  (1): Linear(in_features=8192, out_features=1024, bias=True)\n",
      "  (2): LeakyReLU(negative_slope=0.01)\n",
      "  (3): InstanceNorm1d(1024, eps=1e-05, momentum=0.1, affine=False, track_running_stats=False)\n",
      "  (4): Dropout(p=0.5, inplace=False)\n",
      "  (5): Linear(in_features=1024, out_features=512, bias=True)\n",
      "  (6): LeakyReLU(negative_slope=0.01)\n",
      "  (7): InstanceNorm1d(512, eps=1e-05, momentum=0.1, affine=False, track_running_stats=False)\n",
      "  (8): Dropout(p=0.5, inplace=False)\n",
      "  (9): Linear(in_features=512, out_features=256, bias=True)\n",
      "  (10): LeakyReLU(negative_slope=0.01)\n",
      "  (11): InstanceNorm1d(256, eps=1e-05, momentum=0.1, affine=False, track_running_stats=False)\n",
      "  (12): Dropout(p=0.5, inplace=False)\n",
      "  (13): Linear(in_features=256, out_features=1, bias=True)\n",
      ")\n"
     ]
    },
    {
     "name": "stderr",
     "output_type": "stream",
     "text": [
      "  0%|          | 0/5 [00:00<?, ?it/s]/home/kh701/.conda/envs/cognition/lib/python3.9/site-packages/torch/nn/modules/loss.py:536: UserWarning: Using a target size (torch.Size([1, 1])) that is different to the input size (torch.Size([1, 1, 2183])). This will likely lead to incorrect results due to broadcasting. Please ensure they have the same size.\n",
      "  return F.mse_loss(input, target, reduction=self.reduction)\n",
      " 20%|██        | 1/5 [00:02<00:10,  2.52s/it]"
     ]
    },
    {
     "name": "stdout",
     "output_type": "stream",
     "text": [
      "Epoch 1 loss: 3.017691135406494\n"
     ]
    },
    {
     "name": "stderr",
     "output_type": "stream",
     "text": [
      " 40%|████      | 2/5 [00:05<00:07,  2.59s/it]"
     ]
    },
    {
     "name": "stdout",
     "output_type": "stream",
     "text": [
      "Epoch 2 loss: 2.1813321113586426\n"
     ]
    },
    {
     "name": "stderr",
     "output_type": "stream",
     "text": [
      " 60%|██████    | 3/5 [00:07<00:05,  2.55s/it]"
     ]
    },
    {
     "name": "stdout",
     "output_type": "stream",
     "text": [
      "Epoch 3 loss: 2.835190534591675\n"
     ]
    },
    {
     "name": "stderr",
     "output_type": "stream",
     "text": [
      " 80%|████████  | 4/5 [00:10<00:02,  2.54s/it]"
     ]
    },
    {
     "name": "stdout",
     "output_type": "stream",
     "text": [
      "Epoch 4 loss: 4.7551984786987305\n"
     ]
    },
    {
     "name": "stderr",
     "output_type": "stream",
     "text": [
      "100%|██████████| 5/5 [00:12<00:00,  2.54s/it]"
     ]
    },
    {
     "name": "stdout",
     "output_type": "stream",
     "text": [
      "Epoch 5 loss: 2.494621992111206\n"
     ]
    },
    {
     "name": "stderr",
     "output_type": "stream",
     "text": [
      "\n"
     ]
    }
   ],
   "source": [
    "from tqdm import tqdm\n",
    "\n",
    "torch.set_printoptions(sci_mode=False)\n",
    "\n",
    "\n",
    "def pretrain_loop(\n",
    "        data: TCGADataset,\n",
    "        batch_size: int, \n",
    "        epochs: int = 10,\n",
    "    ):\n",
    "    \n",
    "    device = torch.device(\"cuda\" if torch.cuda.is_available() else \"cpu\")\n",
    "    \n",
    "    loader = DataLoader(\n",
    "        data, \n",
    "        batch_size=batch_size, \n",
    "        shuffle=True, \n",
    "        num_workers=multiprocessing.cpu_count()-1\n",
    "    )\n",
    "    [omic_sample], _, _, _ = next(iter(loader))\n",
    "    \n",
    "    \n",
    "    model = TabPretrainer(\n",
    "        sample = omic_sample, \n",
    "        input_axis=1, \n",
    "        latent_shape=[256, 32], # (n_l x d_l)\n",
    "        attn_dropout=0.1, \n",
    "        num_heads=8,\n",
    "        num_freq_bands=8\n",
    "    )\n",
    "    model.to(device)\n",
    "    \n",
    "    optimizer = torch.optim.Adam(model.parameters(), lr=1e-3)\n",
    "    \n",
    "    loss_method = \"mse\"\n",
    "    loss_fn = TabularLoss(method=loss_method)\n",
    "    \n",
    "    for epoch in tqdm(range(epochs)):\n",
    "        for idx, batch in enumerate(loader):\n",
    "            [omic], censorship, event_time, y_disc = batch\n",
    "            omic = omic.to(device)\n",
    "            rec_omic = model(omic)\n",
    "            if loss_method == \"contrastive\":\n",
    "                # need to pass in larges for contrastive loss\n",
    "                # using torch.ones to ensure that omic and rec_omic are learned as similar representations\n",
    "                # note that this is a slight repurposing of the contrastive loss function\n",
    "                # with this, the loss is just 1-cos(omic, rec_omic)\n",
    "                loss = loss_fn(input1=omic, input2=rec_omic, target=torch.ones(omic.shape[0]))\n",
    "            elif loss_method == \"mse\": \n",
    "                loss = loss_fn(input=omic, target=rec_omic)\n",
    "            loss.backward()\n",
    "            optimizer.step()\n",
    "            optimizer.zero_grad()\n",
    "            \n",
    "            # print every 10th batch\n",
    "            if idx % 100 == 0:\n",
    "                pass\n",
    "                # print(loss)\n",
    "                # print(omic)\n",
    "                # print(rec_omic)\n",
    "        # print epoch-level stats\n",
    "        print(f\"Epoch {epoch+1} loss: {loss}\")\n",
    "        # final reconstruction\n",
    "        # print error vector\n",
    "        # print((omic - rec_omic).abs())\n",
    "        # print(omic)\n",
    "        # print(rec_omic)\n",
    "    return model\n",
    "        \n",
    "            \n",
    "    \n",
    "tab_model = pretrain_loop( data=blca, batch_size=1, epochs=5)\n",
    "tab_latent = tab_model.get_latent()\n",
    "    "
   ],
   "metadata": {
    "collapsed": false,
    "ExecuteTime": {
     "end_time": "2023-10-31T12:57:46.275230Z",
     "start_time": "2023-10-31T12:57:32.819614Z"
    }
   }
  },
  {
   "cell_type": "code",
   "execution_count": 195,
   "outputs": [
    {
     "data": {
      "text/plain": "tensor([    0.0000,     0.0005,     0.0005,  ...,     0.0005,     0.0005,\n            0.0005], device='cuda:0', grad_fn=<SelectBackward0>)"
     },
     "execution_count": 195,
     "metadata": {},
     "output_type": "execute_result"
    }
   ],
   "source": [
    "# get encoder attention weights for a test sample\n",
    "device = torch.device(\"cuda\" if torch.cuda.is_available() else \"cpu\")\n",
    "encoder = tab_model.encoder.to(device)\n",
    "encoder.eval()\n",
    "sample = next(iter(blca_loader))\n",
    "[omic], _, _, _ = sample\n",
    "omic = omic.to(device)\n",
    "# initialise latent\n",
    "latent = torch.randn(1, 256, 32).to(device)\n",
    "omic.to(device)\n",
    "latent.to(device)\n",
    "# watch out for leakage here\n",
    "# print(tab_latent)\n",
    "encoder(query=omic, latent=tab_latent)\n",
    "encoder.layers[0].attn_weights.shape\n",
    "encoder.layers[0].attn_weights[0]"
   ],
   "metadata": {
    "collapsed": false,
    "ExecuteTime": {
     "end_time": "2023-10-31T12:42:32.615420Z",
     "start_time": "2023-10-31T12:42:31.970038Z"
    }
   }
  },
  {
   "cell_type": "code",
   "execution_count": 206,
   "outputs": [
    {
     "data": {
      "text/plain": "<Figure size 640x480 with 1 Axes>",
      "image/png": "[encoded data removed]"
     },
     "metadata": {},
     "output_type": "display_data"
    },
    {
     "data": {
      "text/plain": "Index(['PKN3_rnaseq', 'SLC44A1_rnaseq', 'OXT_rnaseq', 'CAMKV_rnaseq',\n       'CD86_rnaseq', 'MAPK3_rnaseq', 'MAP4K2_rnaseq', 'SEMA4G_rnaseq',\n       'PAX3_rnaseq', 'EBI3_rnaseq'],\n      dtype='object')"
     },
     "execution_count": 206,
     "metadata": {},
     "output_type": "execute_result"
    }
   ],
   "source": [
    "import seaborn as sns\n",
    "import matplotlib.pyplot as plt\n",
    "\n",
    "def plot_attn_weight_distribution(attn_weights: torch.Tensor):\n",
    "    attn_weights = attn_weights.cpu().detach().numpy()\n",
    "    attn_weights = attn_weights.flatten()\n",
    "    sns.histplot(attn_weights)\n",
    "    plt.show()\n",
    "    \n",
    "def get_most_important_features(attn_weights: torch.Tensor, blca: TCGADataset):\n",
    "    attn_weights = attn_weights.cpu().detach().numpy()\n",
    "    attn_weights = attn_weights.flatten()\n",
    "    # get top 10 features\n",
    "    top_10 = np.argsort(attn_weights)[-10:]\n",
    "    # get feature names\n",
    "    feature_names = blca.omic_df.columns\n",
    "    top_10_features = feature_names[top_10]\n",
    "    return top_10_features\n",
    "    \n",
    "plot_attn_weight_distribution(encoder.layers[0].attn_weights[0])\n",
    "get_most_important_features(encoder.layers[0].attn_weights[0], blca)"
   ],
   "metadata": {
    "collapsed": false,
    "ExecuteTime": {
     "end_time": "2023-10-31T12:46:55.533685Z",
     "start_time": "2023-10-31T12:46:55.294324Z"
    }
   }
  },
  {
   "cell_type": "code",
   "execution_count": null,
   "outputs": [],
   "source": [],
   "metadata": {
    "collapsed": false
   }
  },
  {
   "cell_type": "code",
   "execution_count": 13,
   "outputs": [],
   "source": [],
   "metadata": {
    "collapsed": false,
    "ExecuteTime": {
     "end_time": "2023-10-30T10:29:47.823051Z",
     "start_time": "2023-10-30T10:29:47.818526Z"
    }
   }
  },
  {
   "cell_type": "code",
   "execution_count": 13,
   "outputs": [],
   "source": [],
   "metadata": {
    "collapsed": false,
    "ExecuteTime": {
     "end_time": "2023-10-30T10:29:47.837352Z",
     "start_time": "2023-10-30T10:29:47.820303Z"
    }
   }
  },
  {
   "cell_type": "code",
   "execution_count": 13,
   "outputs": [],
   "source": [],
   "metadata": {
    "collapsed": false,
    "ExecuteTime": {
     "end_time": "2023-10-30T10:29:47.839370Z",
     "start_time": "2023-10-30T10:29:47.824501Z"
    }
   }
  }
 ],
 "metadata": {
  "kernelspec": {
   "display_name": "cognition",
   "language": "python",
   "name": "python3"
  },
  "language_info": {
   "codemirror_mode": {
    "name": "ipython",
    "version": 3
   },
   "file_extension": ".py",
   "mimetype": "text/x-python",
   "name": "python",
   "nbconvert_exporter": "python",
   "pygments_lexer": "ipython3",
   "version": "3.9.16"
  }
 },
 "nbformat": 4,
 "nbformat_minor": 2
}
