{
 "cells": [
  {
   "cell_type": "code",
   "execution_count": 4,
   "metadata": {
    "ExecuteTime": {
     "end_time": "2023-05-05T16:59:50.559321Z",
     "start_time": "2023-05-05T16:59:45.338767Z"
    },
    "collapsed": true
   },
   "outputs": [
    {
     "data": {
      "text/html": [
       "<style>.container { width:100% !important; }</style>"
      ],
      "text/plain": [
       "<IPython.core.display.HTML object>"
      ]
     },
     "metadata": {},
     "output_type": "display_data"
    }
   ],
   "source": [
    "import os\n",
    "import sys\n",
    "import torch\n",
    "import torchvision\n",
    "import numpy as np\n",
    "import torchvision.transforms as transforms\n",
    "import einops\n",
    "import pandas as pd\n",
    "from sklearn.datasets import load_breast_cancer\n",
    "from sklearn.model_selection import train_test_split\n",
    "from torch.utils.data import Dataset, DataLoader\n",
    "pd.set_option('display.max_columns', 50)\n",
    "pd.set_option('display.max_rows', 50)\n",
    "from IPython.display import display, HTML\n",
    "display(HTML(\"<style>.container { width:100% !important; }</style>\"))\n",
    "\n",
    "if \"x-perceiver\" not in os.listdir():\n",
    "    os.chdir(\"/Users/konsti/Documents/repos/phd/x-perceiver/\")\n",
    "\n",
    "%reload_ext autoreload\n",
    "%autoreload 2"
   ]
  },
  {
   "cell_type": "code",
   "execution_count": 6,
   "metadata": {
    "ExecuteTime": {
     "end_time": "2023-05-05T17:00:09.512974Z",
     "start_time": "2023-05-05T17:00:09.402710Z"
    },
    "collapsed": false
   },
   "outputs": [],
   "source": [
    "from x_perceiver.utils import Config\n",
    "from x_perceiver.etl import TCGADataset\n",
    "from x_perceiver.train import train_loop"
   ]
  },
  {
   "cell_type": "markdown",
   "metadata": {
    "collapsed": false
   },
   "source": [
    "### Load data"
   ]
  },
  {
   "cell_type": "code",
   "execution_count": 57,
   "metadata": {
    "ExecuteTime": {
     "end_time": "2023-05-09T14:34:13.218634Z",
     "start_time": "2023-05-09T14:34:12.074693Z"
    },
    "collapsed": false
   },
   "outputs": [
    {
     "name": "stdout",
     "output_type": "stream",
     "text": [
      "Dataset: BLCA\n",
      "Molecular data shape: (437, 2191)\n",
      "Total slides available: 25\n",
      "Molecular/Slide match: 25/437\n",
      "Slide level count: 4\n",
      "Slide level dimensions: ((98056, 76793), (24514, 19198), (6128, 4799), (3064, 2399))\n",
      "Slide resize dimensions: w: 1920, h: 1664\n",
      "Sources selected: ['omic', 'slides']\n",
      "Censored share: 0.54\n"
     ]
    }
   ],
   "source": [
    "# Molecular data\n",
    "config = Config(\"config/main.yml\").read()\n",
    "blca = TCGADataset(\"blca\", config, filter_omic=False)"
   ]
  },
  {
   "cell_type": "code",
   "execution_count": 58,
   "metadata": {
    "ExecuteTime": {
     "end_time": "2023-05-09T14:34:15.996567Z",
     "start_time": "2023-05-09T14:34:15.857392Z"
    },
    "collapsed": false
   },
   "outputs": [
    {
     "data": {
      "text/plain": [
       "(437, 2191)"
      ]
     },
     "execution_count": 58,
     "metadata": {},
     "output_type": "execute_result"
    }
   ],
   "source": [
    "blca.omic_df.shape"
   ]
  },
  {
   "cell_type": "code",
   "execution_count": 97,
   "metadata": {
    "ExecuteTime": {
     "end_time": "2023-05-09T14:45:36.124340Z",
     "start_time": "2023-05-09T14:45:35.986514Z"
    },
    "collapsed": false
   },
   "outputs": [],
   "source": [
    "from sklearn.ensemble import RandomForestClassifier\n",
    "from sklearn.model_selection import train_test_split\n",
    "from sklearn.metrics import accuracy_score\n",
    "from sklearn.ensemble import GradientBoostingClassifier\n",
    "def train_random_forest(X, y):\n",
    "    X_train, X_test, y_train, y_test = train_test_split(X, y, test_size=0.2, random_state=42)\n",
    "    maj_class_clf_test = np.unique(ar=y_test, return_counts=True)[1][-1] / len(y_test)\n",
    "    # gradient boosting\n",
    "    clf = GradientBoostingClassifier(n_estimators=100, learning_rate=0.1, max_depth=2, min_samples_split=2, random_state=42)\n",
    "    clf.fit(X_train, y_train)\n",
    "    y_pred = clf.predict(X_test)\n",
    "    print(y_pred)\n",
    "    print(maj_class_clf_test)\n",
    "    # print(majority_class_clf_test)\n",
    "    return accuracy_score(y_test, y_pred)"
   ]
  },
  {
   "cell_type": "code",
   "execution_count": 93,
   "metadata": {
    "ExecuteTime": {
     "end_time": "2023-05-09T14:44:04.227087Z",
     "start_time": "2023-05-09T14:44:04.061681Z"
    },
    "collapsed": false
   },
   "outputs": [],
   "source": [
    "X = blca.features.values\n",
    "y = blca.omic_df[\"y_disc\"].values"
   ]
  },
  {
   "cell_type": "code",
   "execution_count": 98,
   "metadata": {
    "ExecuteTime": {
     "end_time": "2023-05-09T14:46:08.142057Z",
     "start_time": "2023-05-09T14:45:37.762377Z"
    },
    "collapsed": false
   },
   "outputs": [
    {
     "name": "stdout",
     "output_type": "stream",
     "text": [
      "[3 1 0 3 3 3 3 3 3 3 1 0 2 1 2 1 1 0 0 1 2 1 0 3 3 3 3 3 1 3 3 0 0 3 3 1 2\n",
      " 0 2 3 1 3 3 2 2 2 0 3 1 3 3 2 0 2 2 1 2 2 2 3 2 2 2 2 2 3 3 3 3 3 2 3 0 2\n",
      " 1 3 3 3 2 2 0 3 0 1 2 3 3 3]\n",
      "0.42045454545454547\n"
     ]
    },
    {
     "data": {
      "text/plain": [
       "0.3181818181818182"
      ]
     },
     "execution_count": 98,
     "metadata": {},
     "output_type": "execute_result"
    }
   ],
   "source": [
    "train_random_forest(X, y)"
   ]
  },
  {
   "cell_type": "code",
   "execution_count": 103,
   "metadata": {
    "ExecuteTime": {
     "end_time": "2023-05-11T14:23:58.682242Z",
     "start_time": "2023-05-11T14:23:58.446452Z"
    },
    "collapsed": false
   },
   "outputs": [],
   "source": [
    "unique, class_counts = np.unique(ar=blca.y_disc, return_counts=True)"
   ]
  },
  {
   "cell_type": "code",
   "execution_count": 104,
   "metadata": {
    "ExecuteTime": {
     "end_time": "2023-05-11T14:24:03.388695Z",
     "start_time": "2023-05-11T14:24:03.175730Z"
    },
    "collapsed": false
   },
   "outputs": [
    {
     "data": {
      "text/plain": [
       "array([ 72,  83, 109, 173])"
      ]
     },
     "execution_count": 104,
     "metadata": {},
     "output_type": "execute_result"
    }
   ],
   "source": [
    "class_counts"
   ]
  }
 ],
 "metadata": {
  "kernelspec": {
   "display_name": "Python 3",
   "language": "python",
   "name": "python3"
  },
  "language_info": {
   "codemirror_mode": {
    "name": "ipython",
    "version": 2
   },
   "file_extension": ".py",
   "mimetype": "text/x-python",
   "name": "python",
   "nbconvert_exporter": "python",
   "pygments_lexer": "ipython2",
   "version": "2.7.6"
  }
 },
 "nbformat": 4,
 "nbformat_minor": 0
}
