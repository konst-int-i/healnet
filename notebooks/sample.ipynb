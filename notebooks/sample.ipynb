{
 "cells": [
  {
   "cell_type": "markdown",
   "source": [
    "## Imports"
   ],
   "metadata": {
    "collapsed": false
   },
   "id": "1ae2c8fd3734c812"
  },
  {
   "cell_type": "code",
   "execution_count": 21,
   "outputs": [],
   "source": [
    "from healnet.models import HealNet\n",
    "from torch import nn\n",
    "import torch\n",
    "import einops\n",
    "from torch.utils.data import Dataset, DataLoader\n",
    "import numpy as np\n",
    "import scipy\n",
    "from typing import *"
   ],
   "metadata": {
    "collapsed": false,
    "ExecuteTime": {
     "end_time": "2023-12-04T16:42:02.134996Z",
     "start_time": "2023-12-04T16:42:02.120452Z"
    }
   },
   "id": "787ff0241bf48627"
  },
  {
   "cell_type": "markdown",
   "source": [
    "## Synthetic modalities\n",
    "\n",
    "We instantiate a synthetic multimodal dataset for demo purposes. "
   ],
   "metadata": {
    "collapsed": false
   },
   "id": "5de637307d506881"
  },
  {
   "cell_type": "code",
   "execution_count": 47,
   "outputs": [],
   "source": [
    "n = 1000 # number of samples\n",
    "b = 4 # batch size\n",
    "img_c = 3 # image channels\n",
    "tab_c = 1 # tabular channels\n",
    "h = 512 # image height\n",
    "w = 512 # image width\n",
    "\n",
    "tab_tensor = torch.rand(size=(n, 5000)) # assume 5k tabular features\n",
    "img_tensor = torch.rand(size=(n, img_c, h, w)) # c h w\n",
    "\n",
    "# derive a target\n",
    "target = torch.rand(size=(n,))\n"
   ],
   "metadata": {
    "collapsed": false,
    "ExecuteTime": {
     "end_time": "2023-12-04T16:50:40.728609Z",
     "start_time": "2023-12-04T16:50:32.845715Z"
    }
   },
   "id": "233819ff1c11e04a"
  },
  {
   "cell_type": "code",
   "execution_count": 51,
   "outputs": [],
   "source": [
    "class MMDataset(Dataset): \n",
    "    def __init__(self, tensors: List[torch.Tensor], target: torch.Tensor):\n",
    "        self.tensors = tensors\n",
    "        self.target = target\n",
    "        \n",
    "    def __getitem__(self, idx) -> Tuple[List[torch.Tensor], torch.Tensor]:\n",
    "        return [t[idx] for t in self.tensors], self.target[idx]\n",
    "    \n",
    "    def __len__(self):\n",
    "        return target.size()[0]\n",
    "\n",
    "data = MMDataset([tab_tensor, img_tensor], target)\n",
    "train, test, val = torch.utils.data.random_split(data, [0.7, 0.15, 0.15]) # create 70-15-15 train-val-test split\n",
    "\n",
    "loader_args = {\n",
    "    \"shuffle\": True, \n",
    "    \"num_workers\": 8, \n",
    "    \"pin_memory\": True, \n",
    "    \"multiprocessing_context\": \"fork\", \n",
    "    \"persistent_workers\": True, \n",
    "}\n",
    "\n",
    "train_loader = DataLoader(train, **loader_args)\n",
    "val_loader = DataLoader(val, **loader_args)\n",
    "test_loader = DataLoader(test, **loader_args)\n",
    "# example use"
   ],
   "metadata": {
    "collapsed": false,
    "ExecuteTime": {
     "end_time": "2023-12-04T16:51:04.364305Z",
     "start_time": "2023-12-04T16:51:04.336702Z"
    }
   },
   "id": "1df31a7b4a69e7aa"
  },
  {
   "cell_type": "code",
   "execution_count": 38,
   "outputs": [],
   "source": [
    "# example use\n",
    "[tab_sample, img_sample], target = data[0]"
   ],
   "metadata": {
    "collapsed": false,
    "ExecuteTime": {
     "end_time": "2023-12-04T16:44:08.493185Z",
     "start_time": "2023-12-04T16:44:08.480586Z"
    }
   },
   "id": "45ab1e79c8bc3a21"
  },
  {
   "cell_type": "code",
   "execution_count": null,
   "outputs": [],
   "source": [],
   "metadata": {
    "collapsed": false
   },
   "id": "504d15c029cf68e0"
  }
 ],
 "metadata": {
  "kernelspec": {
   "display_name": "Python 3",
   "language": "python",
   "name": "python3"
  },
  "language_info": {
   "codemirror_mode": {
    "name": "ipython",
    "version": 2
   },
   "file_extension": ".py",
   "mimetype": "text/x-python",
   "name": "python",
   "nbconvert_exporter": "python",
   "pygments_lexer": "ipython2",
   "version": "2.7.6"
  }
 },
 "nbformat": 4,
 "nbformat_minor": 5
}
