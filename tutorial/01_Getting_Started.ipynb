{
 "cells": [
  {
   "cell_type": "markdown",
   "id": "1ae2c8fd3734c812",
   "metadata": {
    "collapsed": false
   },
   "source": [
    "## Imports"
   ]
  },
  {
   "cell_type": "code",
   "execution_count": 1,
   "id": "787ff0241bf48627",
   "metadata": {
    "collapsed": false
   },
   "outputs": [],
   "source": [
    "from healnet.models import HealNet\n",
    "from healnet.etl import MMDataset\n",
    "import torch\n",
    "import einops\n",
    "from torch.utils.data import Dataset, DataLoader\n",
    "from typing import *\n",
    "\n",
    "%load_ext autoreload\n",
    "%autoreload 2"
   ]
  },
  {
   "cell_type": "markdown",
   "id": "5de637307d506881",
   "metadata": {
    "collapsed": false
   },
   "source": [
    "## Synthetic modalities\n",
    "\n",
    "We instantiate a synthetic multimodal dataset for demo purposes. "
   ]
  },
  {
   "cell_type": "code",
   "execution_count": 2,
   "id": "233819ff1c11e04a",
   "metadata": {
    "collapsed": false
   },
   "outputs": [],
   "source": [
    "n = 1000 # number of samples\n",
    "b = 4 # batch size\n",
    "\n",
    "# latent channels x dims\n",
    "l_c = 256\n",
    "l_d = 512\n",
    "\n",
    "# 2D image\n",
    "img_c = 3 # image channels\n",
    "h = 512 # image height\n",
    "w = 512 # image width\n",
    "\n",
    "\n",
    "# 1D tabular\n",
    "tab_c = 1 # tabular channels\n",
    "tab_d = 5000 # tabular features\n",
    "# \n",
    "n_classes = 4 # classification\n",
    "\n",
    "tab_tensor = torch.rand(size=(n, tab_c, tab_d)) # assume 5k tabular features\n",
    "img_tensor = torch.rand(size=(n, img_c, h, w)) # c h w\n",
    "\n",
    "\n",
    "# derive a target\n",
    "target = torch.rand(size=(n,))"
   ]
  },
  {
   "cell_type": "code",
   "execution_count": 3,
   "id": "1df31a7b4a69e7aa",
   "metadata": {
    "collapsed": false
   },
   "outputs": [],
   "source": [
    "data = MMDataset([tab_tensor, img_tensor], target)\n",
    "train, test, val = torch.utils.data.random_split(data, [0.7, 0.15, 0.15]) # create 70-15-15 train-val-test split\n",
    "\n",
    "loader_args = {\n",
    "    \"shuffle\": True, \n",
    "    \"num_workers\": 8, \n",
    "    \"pin_memory\": True, \n",
    "    \"multiprocessing_context\": \"fork\", \n",
    "    \"persistent_workers\": True, \n",
    "}\n",
    "\n",
    "train_loader = DataLoader(train, **loader_args)\n",
    "val_loader = DataLoader(val, **loader_args)\n",
    "test_loader = DataLoader(test, **loader_args)\n",
    "# example use"
   ]
  },
  {
   "cell_type": "code",
   "execution_count": 8,
   "id": "45ab1e79c8bc3a21",
   "metadata": {
    "collapsed": false
   },
   "outputs": [],
   "source": [
    "# example use\n",
    "[tab_sample, img_sample], target = data[0]\n",
    "\n",
    "# emulate batch dimension\n",
    "tab_sample = einops.repeat(tab_sample, 'c d -> b c d', b=b)\n",
    "img_sample = einops.repeat(img_sample, 'c h w -> b c (h w)', b=b)"
   ]
  },
  {
   "cell_type": "code",
   "execution_count": 9,
   "id": "38724a29f4142f8e",
   "metadata": {
    "collapsed": false
   },
   "outputs": [
    {
     "data": {
      "text/plain": [
       "torch.Size([4, 3, 262144])"
      ]
     },
     "execution_count": 9,
     "metadata": {},
     "output_type": "execute_result"
    }
   ],
   "source": [
    "img_sample.shape"
   ]
  },
  {
   "cell_type": "code",
   "execution_count": 12,
   "id": "504d15c029cf68e0",
   "metadata": {
    "collapsed": false
   },
   "outputs": [],
   "source": [
    "model = HealNet(\n",
    "            modalities=2, \n",
    "            input_channels=[tab_c, img_c], \n",
    "            input_axes=[1, 1], # channel axes (0-indexed)\n",
    "            num_classes = n_classes,  \n",
    "            l_c=l_c, \n",
    "            l_d=l_d\n",
    "        )"
   ]
  },
  {
   "cell_type": "code",
   "execution_count": 13,
   "id": "d9e77fe00f07c904",
   "metadata": {
    "collapsed": false
   },
   "outputs": [
    {
     "name": "stdout",
     "output_type": "stream",
     "text": [
      "torch.Size([4, 4]) torch.Size([4, 256, 512])\n"
     ]
    }
   ],
   "source": [
    "# forward pass\n",
    "logits = model([tab_sample, img_sample])\n",
    "latent = model([tab_sample, img_sample], return_embeddings=True)\n",
    "\n",
    "print(logits.shape, latent.shape)\n",
    "\n",
    "assert logits.shape == (b, n_classes)\n",
    "assert latent.shape == (b, l_c, l_d)"
   ]
  },
  {
   "cell_type": "markdown",
   "id": "c9452f27",
   "metadata": {},
   "source": [
    "## Handling missing modalities\n",
    "\n",
    "HEALNet natively handles missing modalities through its iterative architecture. If you encounter a missing data point in your pipeline, you can simply skip it by passing in `None` instead of the tensor. The model will stil return the embedding or prediction based on the present modalities. "
   ]
  },
  {
   "cell_type": "code",
   "execution_count": 20,
   "id": "b188c055",
   "metadata": {},
   "outputs": [
    {
     "name": "stdout",
     "output_type": "stream",
     "text": [
      "Missing modalities indices: [1]\n",
      "Skipping update in fusion layer 1 for missing modality 2\n",
      "Skipping update in fusion layer 2 for missing modality 2\n",
      "Skipping update in fusion layer 3 for missing modality 2\n",
      "Missing modalities indices: [0]\n",
      "Skipping update in fusion layer 1 for missing modality 1\n",
      "Skipping update in fusion layer 2 for missing modality 1\n",
      "Skipping update in fusion layer 3 for missing modality 1\n"
     ]
    }
   ],
   "source": [
    "logits_missing = model([tab_sample, None], verbose=True)\n",
    "latent_missing = model([None, img_sample], return_embeddings=True, verbose=True)"
   ]
  },
  {
   "cell_type": "code",
   "execution_count": null,
   "id": "84d6c286",
   "metadata": {},
   "outputs": [],
   "source": []
  }
 ],
 "metadata": {
  "kernelspec": {
   "display_name": "Python 3",
   "language": "python",
   "name": "python3"
  },
  "language_info": {
   "codemirror_mode": {
    "name": "ipython",
    "version": 3
   },
   "file_extension": ".py",
   "mimetype": "text/x-python",
   "name": "python",
   "nbconvert_exporter": "python",
   "pygments_lexer": "ipython3",
   "version": "3.9.21"
  }
 },
 "nbformat": 4,
 "nbformat_minor": 5
}
