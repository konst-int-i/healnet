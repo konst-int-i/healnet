{
 "cells": [
  {
   "cell_type": "markdown",
   "id": "1ae2c8fd3734c812",
   "metadata": {
    "collapsed": false
   },
   "source": [
    "## Imports"
   ]
  },
  {
   "cell_type": "code",
   "execution_count": 38,
   "id": "787ff0241bf48627",
   "metadata": {
    "collapsed": false
   },
   "outputs": [
    {
     "name": "stdout",
     "output_type": "stream",
     "text": [
      "The autoreload extension is already loaded. To reload it, use:\n",
      "  %reload_ext autoreload\n"
     ]
    }
   ],
   "source": [
    "from healnet.models import HealNet\n",
    "from healnet.etl import MMDataset\n",
    "from healnet.utils.train_utils import count_parameters\n",
    "import torch\n",
    "import einops\n",
    "from torch.utils.data import Dataset, DataLoader\n",
    "\n",
    "from typing import *\n",
    "\n",
    "%load_ext autoreload\n",
    "%autoreload 2"
   ]
  },
  {
   "cell_type": "markdown",
   "id": "5de637307d506881",
   "metadata": {
    "collapsed": false
   },
   "source": [
    "## Synthetic modalities\n",
    "\n",
    "We instantiate a synthetic multimodal dataset for demo purposes. "
   ]
  },
  {
   "cell_type": "code",
   "execution_count": 39,
   "id": "233819ff1c11e04a",
   "metadata": {
    "collapsed": false
   },
   "outputs": [],
   "source": [
    "n = 100 # number of samples\n",
    "b = 4 # batch size\n",
    "\n",
    "# latent channels x dims\n",
    "l_c = 16\n",
    "l_d = 64\n",
    "\n",
    "# 2D image\n",
    "img_c = 3 # image channels\n",
    "h = 224 # image height\n",
    "w = 224 # image width\n",
    "# 3D image\n",
    "d = 12 # depth\n",
    "\n",
    "# 1D tabular\n",
    "tab_c = 1 # tabular channels\n",
    "tab_d = 5000 # tabular features\n",
    "# \n",
    "n_classes = 4 # classification\n",
    "\n",
    "# tab_tensor = torch.rand(size=(n, tab_d, tab_c)) # assume 5k tabular features\n",
    "# img_tensor = torch.rand(size=(n, img_c, h, w)) # c h w\n",
    "\n",
    "tab_tensor = torch.rand(size=(n, tab_c, tab_d)) \n",
    "img_2d_tensor = torch.rand(size=(n, h, w, img_c))\n",
    "img_3d_tensor = torch.rand(size=(n, d, h, w, img_c))\n",
    "\n",
    "\n",
    "# derive a target\n",
    "target = torch.rand(size=(n,))"
   ]
  },
  {
   "cell_type": "code",
   "execution_count": 40,
   "id": "1df31a7b4a69e7aa",
   "metadata": {
    "collapsed": false
   },
   "outputs": [],
   "source": [
    "data = MMDataset([tab_tensor, img_2d_tensor, img_3d_tensor], target)\n",
    "train, test, val = torch.utils.data.random_split(data, [0.7, 0.15, 0.15]) # create 70-15-15 train-val-test split\n",
    "\n",
    "loader_args = {\n",
    "    \"shuffle\": True, \n",
    "    \"num_workers\": 8, \n",
    "    \"pin_memory\": True, \n",
    "    \"multiprocessing_context\": \"fork\", \n",
    "    \"persistent_workers\": True, \n",
    "}\n",
    "\n",
    "train_loader = DataLoader(train, **loader_args)\n",
    "val_loader = DataLoader(val, **loader_args)\n",
    "test_loader = DataLoader(test, **loader_args)\n",
    "# example use"
   ]
  },
  {
   "cell_type": "code",
   "execution_count": 41,
   "id": "45ab1e79c8bc3a21",
   "metadata": {
    "collapsed": false
   },
   "outputs": [],
   "source": [
    "# example use\n",
    "[tab_sample, img_sample_2d, img_sample_3d], target = data[0]\n",
    "\n",
    "# emulate batch dimensio\n",
    "\n",
    "tab_sample = einops.repeat(tab_sample, 'd c -> b d c', b=b)\n",
    "img_sample_2d = einops.repeat(img_sample_2d, 'h w c -> b h w c', b=b)\n",
    "img_sample_3d = einops.repeat(img_sample_3d, 'd h w c -> b d h w c', b=b)\n"
   ]
  },
  {
   "cell_type": "code",
   "execution_count": 43,
   "id": "504d15c029cf68e0",
   "metadata": {
    "collapsed": false
   },
   "outputs": [
    {
     "name": "stdout",
     "output_type": "stream",
     "text": [
      "HealNet(\n",
      "  (layers): ModuleList(\n",
      "    (0-2): 3 x ModuleList(\n",
      "      (0): PreNorm(\n",
      "        (fn): Attention(\n",
      "          (to_q): Linear(in_features=64, out_features=64, bias=False)\n",
      "          (to_kv): Linear(in_features=6, out_features=128, bias=False)\n",
      "          (dropout): Dropout(p=0.0, inplace=False)\n",
      "          (to_out): Sequential(\n",
      "            (0): Linear(in_features=64, out_features=64, bias=True)\n",
      "            (1): LeakyReLU(negative_slope=0.01)\n",
      "          )\n",
      "        )\n",
      "        (norm): LayerNorm((64,), eps=1e-05, elementwise_affine=True)\n",
      "        (norm_context): LayerNorm((6,), eps=1e-05, elementwise_affine=True)\n",
      "      )\n",
      "      (1): PreNorm(\n",
      "        (fn): FeedForward(\n",
      "          (net): Sequential(\n",
      "            (0): Linear(in_features=64, out_features=512, bias=True)\n",
      "            (1): SELU()\n",
      "            (2): Linear(in_features=256, out_features=64, bias=True)\n",
      "            (3): Dropout(p=0.0, inplace=False)\n",
      "          )\n",
      "        )\n",
      "        (norm): LayerNorm((64,), eps=1e-05, elementwise_affine=True)\n",
      "      )\n",
      "      (2): PreNorm(\n",
      "        (fn): Attention(\n",
      "          (to_q): Linear(in_features=64, out_features=64, bias=False)\n",
      "          (to_kv): Linear(in_features=13, out_features=128, bias=False)\n",
      "          (dropout): Dropout(p=0.0, inplace=False)\n",
      "          (to_out): Sequential(\n",
      "            (0): Linear(in_features=64, out_features=64, bias=True)\n",
      "            (1): LeakyReLU(negative_slope=0.01)\n",
      "          )\n",
      "        )\n",
      "        (norm): LayerNorm((64,), eps=1e-05, elementwise_affine=True)\n",
      "        (norm_context): LayerNorm((13,), eps=1e-05, elementwise_affine=True)\n",
      "      )\n",
      "      (3): PreNorm(\n",
      "        (fn): FeedForward(\n",
      "          (net): Sequential(\n",
      "            (0): Linear(in_features=64, out_features=512, bias=True)\n",
      "            (1): SELU()\n",
      "            (2): Linear(in_features=256, out_features=64, bias=True)\n",
      "            (3): Dropout(p=0.0, inplace=False)\n",
      "          )\n",
      "        )\n",
      "        (norm): LayerNorm((64,), eps=1e-05, elementwise_affine=True)\n",
      "      )\n",
      "      (4): PreNorm(\n",
      "        (fn): Attention(\n",
      "          (to_q): Linear(in_features=64, out_features=64, bias=False)\n",
      "          (to_kv): Linear(in_features=18, out_features=128, bias=False)\n",
      "          (dropout): Dropout(p=0.0, inplace=False)\n",
      "          (to_out): Sequential(\n",
      "            (0): Linear(in_features=64, out_features=64, bias=True)\n",
      "            (1): LeakyReLU(negative_slope=0.01)\n",
      "          )\n",
      "        )\n",
      "        (norm): LayerNorm((64,), eps=1e-05, elementwise_affine=True)\n",
      "        (norm_context): LayerNorm((18,), eps=1e-05, elementwise_affine=True)\n",
      "      )\n",
      "      (5): PreNorm(\n",
      "        (fn): FeedForward(\n",
      "          (net): Sequential(\n",
      "            (0): Linear(in_features=64, out_features=512, bias=True)\n",
      "            (1): SELU()\n",
      "            (2): Linear(in_features=256, out_features=64, bias=True)\n",
      "            (3): Dropout(p=0.0, inplace=False)\n",
      "          )\n",
      "        )\n",
      "        (norm): LayerNorm((64,), eps=1e-05, elementwise_affine=True)\n",
      "      )\n",
      "      (6): ModuleList(\n",
      "        (0): PreNorm(\n",
      "          (fn): Attention(\n",
      "            (to_q): Linear(in_features=64, out_features=512, bias=False)\n",
      "            (to_kv): Linear(in_features=64, out_features=1024, bias=False)\n",
      "            (dropout): Dropout(p=0.0, inplace=False)\n",
      "            (to_out): Sequential(\n",
      "              (0): Linear(in_features=512, out_features=64, bias=True)\n",
      "              (1): LeakyReLU(negative_slope=0.01)\n",
      "            )\n",
      "          )\n",
      "          (norm): LayerNorm((64,), eps=1e-05, elementwise_affine=True)\n",
      "        )\n",
      "        (1): PreNorm(\n",
      "          (fn): FeedForward(\n",
      "            (net): Sequential(\n",
      "              (0): Linear(in_features=64, out_features=512, bias=True)\n",
      "              (1): SELU()\n",
      "              (2): Linear(in_features=256, out_features=64, bias=True)\n",
      "              (3): Dropout(p=0.0, inplace=False)\n",
      "            )\n",
      "          )\n",
      "          (norm): LayerNorm((64,), eps=1e-05, elementwise_affine=True)\n",
      "        )\n",
      "      )\n",
      "    )\n",
      "  )\n",
      "  (to_logits): Sequential(\n",
      "    (0): Reduce('b n d -> b d', 'mean')\n",
      "    (1): LayerNorm((64,), eps=1e-05, elementwise_affine=True)\n",
      "    (2): Linear(in_features=64, out_features=4, bias=True)\n",
      "  )\n",
      ")\n",
      "HEALNet parameters: 1083362\n"
     ]
    }
   ],
   "source": [
    "model = HealNet(\n",
    "            modalities=3, \n",
    "            input_channels=[tab_c, img_c, img_c], \n",
    "            input_axes=[1, 2, 3], # spatial/temporal tensor dimensions\n",
    "            num_classes = n_classes,  \n",
    "            l_d=l_d, \n",
    "            l_c=l_c, \n",
    "            fourier_encode_data=True, \n",
    "        )\n",
    "\n",
    "print(model)\n",
    "print(f\"HEALNet parameters: {count_parameters(model)}\")\n",
    "# print number of parameters"
   ]
  },
  {
   "cell_type": "code",
   "execution_count": 45,
   "id": "d9e77fe00f07c904",
   "metadata": {
    "collapsed": false
   },
   "outputs": [
    {
     "name": "stdout",
     "output_type": "stream",
     "text": [
      "tab_sample.shape=torch.Size([4, 1, 5000])\n",
      "img_sample_2d.shape=torch.Size([4, 224, 224, 3])\n",
      "img_sample_3d.shape=torch.Size([4, 12, 224, 224, 3])\n",
      "logits.shape=torch.Size([4, 4])\n",
      "latent.shape=torch.Size([4, 16, 64])\n"
     ]
    }
   ],
   "source": [
    "# forward pass\n",
    "logits = model([tab_sample, img_sample_2d, img_sample_3d])\n",
    "latent = model([tab_sample, img_sample_2d, img_sample_3d], return_embeddings=True)\n",
    "\n",
    "assert logits.shape == (b, n_classes)\n",
    "assert latent.shape == (b, l_c, l_d)\n",
    "\n",
    "print(f\"{tab_sample.shape=}\")\n",
    "print(f\"{img_sample_2d.shape=}\")\n",
    "print(f\"{img_sample_3d.shape=}\")\n",
    "print(f\"{logits.shape=}\")\n",
    "print(f\"{latent.shape=}\")\n",
    "\n",
    "# print(logits.shape, latent.shape)"
   ]
  },
  {
   "cell_type": "markdown",
   "id": "c9452f27",
   "metadata": {},
   "source": [
    "## Handling missing modalities\n",
    "\n",
    "HEALNet natively handles missing modalities through its iterative architecture. If you encounter a missing data point in your pipeline, you can simply skip it by passing in `None` instead of the tensor. The model will stil return the embedding or prediction based on the present modalities. "
   ]
  },
  {
   "cell_type": "code",
   "execution_count": 48,
   "id": "b188c055",
   "metadata": {},
   "outputs": [
    {
     "name": "stdout",
     "output_type": "stream",
     "text": [
      "Missing modalities indices: [1]\n",
      "Skipping update in fusion layer 1 for missing modality 2\n",
      "Skipping update in fusion layer 2 for missing modality 2\n",
      "Skipping update in fusion layer 3 for missing modality 2\n",
      "Missing modalities indices: [0, 2]\n",
      "Skipping update in fusion layer 1 for missing modality 1\n",
      "Skipping update in fusion layer 1 for missing modality 3\n",
      "Skipping update in fusion layer 2 for missing modality 1\n",
      "Skipping update in fusion layer 2 for missing modality 3\n",
      "Skipping update in fusion layer 3 for missing modality 1\n",
      "Skipping update in fusion layer 3 for missing modality 3\n"
     ]
    }
   ],
   "source": [
    "logits_missing = model([tab_sample, None, img_sample_3d], verbose=True)\n",
    "latent_missing = model([None, img_sample_2d, None], return_embeddings=True, verbose=True)"
   ]
  },
  {
   "cell_type": "code",
   "execution_count": null,
   "id": "a461db9c",
   "metadata": {},
   "outputs": [],
   "source": []
  }
 ],
 "metadata": {
  "kernelspec": {
   "display_name": "Python 3",
   "language": "python",
   "name": "python3"
  },
  "language_info": {
   "codemirror_mode": {
    "name": "ipython",
    "version": 3
   },
   "file_extension": ".py",
   "mimetype": "text/x-python",
   "name": "python",
   "nbconvert_exporter": "python",
   "pygments_lexer": "ipython3",
   "version": "3.9.21"
  }
 },
 "nbformat": 4,
 "nbformat_minor": 5
}
